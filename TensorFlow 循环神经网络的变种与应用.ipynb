{
 "cells": [
  {
   "cell_type": "markdown",
   "metadata": {},
   "source": [
    "##  TensorFlow 循环神经网络的变种与应用"
   ]
  },
  {
   "cell_type": "markdown",
   "metadata": {},
   "source": [
    "选择环境：Anaconda Python 3.5.2  \n",
    "安装Tensorflow：Python 3.5环境下运行pip install --upgrade --ignore-installed tensorflow  \n",
    "参考书籍：《TensorFlow实战Google深度学习框架（第2版）》  \n",
    "ipynb格式：点击阅读原文github"
   ]
  },
  {
   "cell_type": "markdown",
   "metadata": {},
   "source": [
    "### 8.3 循环神经网络的变种"
   ]
  },
  {
   "cell_type": "markdown",
   "metadata": {},
   "source": [
    "**1. 双向循环神经网络**\n",
    "\n",
    "在有些问题中当前时刻的输出不仅和之前的状态有关系，也和之后的状态相关。这时就需要使用双向循环神经网络（bidirectional RNN）来解决这类问题。双向循环神经网络是由两个独立的循环神经网络叠加在一起组成的。输出由这两个循环神经网络的输出拼接而成。**在每一个时刻t，输入会同时提供给这两个方向相反的循环神经网络。两个网络独立进行计算，各自产生该时刻的新状态和输出，而双向循环网络的最终输出是这两个单向循环神经网络的输出的简单拼接。**两个循环神经网络除方向不同以外，其余结构完全对称。每一层网络中的循环体可以自由选用任意结构，如简单RNN、LSTM均可作为双向循环网络的循环体。\n",
    "\n",
    "**2. 深层循环神经网络**\n",
    "\n",
    "深层循环神经网络（Deep RNN）是RNN的另外一种变种。**为了增强模型的表达能力，可以在网络中设置多个循环层，将每层循环网络的输出传给下一层进行处理**。在一个L层的深层循环网络中，每一时刻的输入x_t到输出o_t之间有L个循环体，网络因此可以从输入中抽取更加高层的信息。**和CNN类似，每一层的循环体中参数是一致的，而不同层中的参数可以不同。**\n",
    "\n",
    "为了更好地支持深层循环神经网络，TensorFlow中提供了`MultiRNNCell`类来实现深层循环神经网络的前向传播过程："
   ]
  },
  {
   "cell_type": "code",
   "execution_count": null,
   "metadata": {},
   "outputs": [],
   "source": [
    "'''\n",
    "# 定义一个基本的LSTM结构作为循环体的基础结构。Deep RNN也支持使用其他的循环体结构。\n",
    "lstm_cell= tf.nn.rnn_cell.BasicLSTMCell\n",
    "\n",
    "# 通过MultiRNNCell类实现深层循环神经网络中每一个时刻的前向传播过程。\n",
    "# 其中number_of_layers表示有多少层，也就是图8.9中从xt到ht要经过多少个LSTM结构。\n",
    "# 注意从TensorFlow1.1版本起，不能使用[lstm_cell(lstm_size)] * N 的形式来\n",
    "# 初始化MultiRNNCell，否则TensorFlow会在每一层之间共享参致。\n",
    "stacked_lstm = tf.nn.rnn_cell.MultiRNNCell(\n",
    "                [lstm_cell(lstm_size) for _ in range(number_of_layers)])\n",
    "                \n",
    "# 和经典的循环神经网络一样，可以通过zero_state函数来获取初始状态。\n",
    "state = stacked_lstm.zero_state(batch size, tf.float32)\n",
    "\n",
    "# 和8.2节中给出的代码一样，计算每一时刻的前向传播结果。\n",
    "for i in range(len(num_steps)) :\n",
    "    if i > 0: tf.get_variable_scope().reuse_variables()\n",
    "    stacked_lstm_output, state = stacked_lstm(current_input, state)\n",
    "    final_output = fully_connected(stacked_lstm_output)\n",
    "    loss += calc_loss(final_output, expected_output)\n",
    "'''"
   ]
  },
  {
   "cell_type": "markdown",
   "metadata": {},
   "source": [
    "可以看到，在TensorFlow中只需要在`BasicLSTMCell`的基础上再封装一层`MultiRNNCell`就可以非常容易地实现深层循环神经网络了。\n",
    "\n",
    "通过dropout可以让CNN更加健壮（robust）。类似的在RNN中使用dropout也有同样的功能。而且，**类似CNN只在最后的全连接层中使用dropout，RNN一般只在不同层循环体结构之间使用dropout，而不在同一层的循环体结构之间使用。**也就是说从时刻t-1传递到时刻t时，RNN不会进行状态的dropout；而在同一个时刻t中，不同层循环体之间会使用dropout。\n",
    "\n",
    "在Tensorflow中，使用`tf.nn.rnn_cell.DropoutWrapper`类可以很容易实现dropout功能："
   ]
  },
  {
   "cell_type": "code",
   "execution_count": null,
   "metadata": {},
   "outputs": [],
   "source": [
    "'''\n",
    "# 定义LSTM结构。\n",
    "lstm_cell = tf.nn.rnn_cell.BasicLSTMCell\n",
    "\n",
    "# 使用DropoutWrapper类来实现dropout 功能。该类通过两个参数来控制dropout的概率，\n",
    "#   一个参数为input_keep_prob，它可以用来控制输入的dropout概率；\n",
    "#   另一参数为output_keep_prob，它可以用来控制输出的dropout概率。\n",
    "# 在使用了DropoutWrapper的基础上定义MultiRNNCell。\n",
    "stacked_lstm = tf.nn.rnn_cell.MultiRNNCell(\n",
    "              [tf.nn.rnn_cell.DropoutWrapper(lstm_cell(lstm_size))\n",
    "              for _ in range(number_of_layers)])\n",
    "\n",
    "# 和8.3.1节中深层循环网络样例程序类似，运行前向传播过程。\n",
    "'''"
   ]
  },
  {
   "cell_type": "markdown",
   "metadata": {},
   "source": [
    "### 8.4 循环神经网络样例程序\n",
    "\n",
    "下面将以时序预测为例，利用RNN实现对函数sin(x)取值的预测。因为RNN模型预测的是离散时刻的取值，所以在程序中需要将连续的sin函数曲线离散化。以下程序为预测离散化之后的sin函数:"
   ]
  },
  {
   "cell_type": "code",
   "execution_count": 1,
   "metadata": {},
   "outputs": [
    {
     "name": "stdout",
     "output_type": "stream",
     "text": [
      "train step: 0, loss:  0.3756562\n",
      "train step: 1000, loss:  0.0016963894\n",
      "train step: 2000, loss:  0.0002515558\n",
      "train step: 3000, loss:  8.8001805e-05\n",
      "train step: 4000, loss:  1.8750321e-05\n",
      "train step: 5000, loss:  7.809812e-06\n",
      "train step: 6000, loss:  4.803255e-06\n",
      "train step: 7000, loss:  3.294972e-06\n",
      "train step: 8000, loss:  4.120477e-06\n",
      "train step: 9000, loss:  3.3793467e-06\n",
      "Root Mean Square Error is: 0.001851\n"
     ]
    },
    {
     "data": {
      "image/png": "[encoded data removed]",
      "text/plain": [
       "<Figure size 432x288 with 1 Axes>"
      ]
     },
     "metadata": {
      "needs_background": "light"
     },
     "output_type": "display_data"
    }
   ],
   "source": [
    "import numpy as np\n",
    "import tensorflow as tf\n",
    "import matplotlib.pyplot as plt\n",
    "%matplotlib inline\n",
    "\n",
    "# 1. 定义RNN的参数\n",
    "HIDDEN_SIZE = 30                            # LSTM中隐藏节点的个数。\n",
    "NUM_LAYERS = 2                              # LSTM的层数。\n",
    "TIMESTEPS = 10                              # 循环神经网络的训练序列长度。\n",
    "TRAINING_STEPS = 10000                      # 训练轮数。\n",
    "BATCH_SIZE = 32                             # batch大小。\n",
    "TRAINING_EXAMPLES = 10000                   # 训练数据个数。\n",
    "TESTING_EXAMPLES = 1000                     # 测试数据个数。\n",
    "SAMPLE_GAP = 0.01                           # 采样间隔。\n",
    "\n",
    "\n",
    "# 2. 产生正弦数据函数\n",
    "def generate_data(seq):\n",
    "    X = []\n",
    "    y = []\n",
    "    # 序列的第i项和后面的TIMESTEPS-1项合在一起作为输入；第i + TIMESTEPS项作为输出。\n",
    "    # 即用sin函数前面的TIMESTEPS个点的信息，预测第i + TIMESTEPS个点的函数值。\n",
    "    for i in range(len(seq) - TIMESTEPS):\n",
    "        X.append([seq[i: i + TIMESTEPS]])\n",
    "        y.append([seq[i + TIMESTEPS]])\n",
    "    return np.array(X, dtype=np.float32), np.array(y, dtype=np.float32)  \n",
    "\n",
    "\n",
    "# 3. 定义网络结构和优化步骤\n",
    "def lstm_model(X, y, is_training):\n",
    "    # 使用多层的LSTM结构。\n",
    "    cell = tf.nn.rnn_cell.MultiRNNCell([\n",
    "        tf.nn.rnn_cell.LSTMCell(HIDDEN_SIZE)\n",
    "        for _ in range(NUM_LAYERS)]) \n",
    "\n",
    "    # 使用TensorFlow接口将多层的LSTM结构连接成RNN网络并计算其前向传播结果。\n",
    "    outputs, _ = tf.nn.dynamic_rnn(cell, X, dtype=tf.float32)\n",
    "    # outputs是顶层LSTM在每一步的输出结果，它的维度是[batch_size, time ,\n",
    "    # HIDDEN_SIZE]。在本问题中只关注最后一个时刻的输出结果。\n",
    "    output = outputs[:, -1, :]\n",
    "\n",
    "    # 对LSTM网络的输出再做加一层全连接层并计算损失。注意这里默认的损失为平均\n",
    "    # 平方差损失函数。\n",
    "    predictions = tf.contrib.layers.fully_connected(\n",
    "        output, 1, activation_fn=None)\n",
    "    \n",
    "    # 只在训练时计算损失函数和优化步骤。测试时直接返回预测结果。\n",
    "    if not is_training:\n",
    "        return predictions, None, None\n",
    "        \n",
    "    # 计算损失函数。\n",
    "    loss = tf.losses.mean_squared_error(labels=y, predictions=predictions)\n",
    "\n",
    "    # 创建模型优化器并得到优化步骤。\n",
    "    train_op = tf.contrib.layers.optimize_loss(\n",
    "        loss, tf.train.get_global_step(),\n",
    "        optimizer=\"Adagrad\", learning_rate=0.1)\n",
    "    \n",
    "    return predictions, loss, train_op\n",
    "\n",
    "\n",
    "# 4. 定义训练方法\n",
    "def train(sess, train_X, train_Y):\n",
    "    # 将训练数据以数据集的方式提供给计算图\n",
    "    ds = tf.data.Dataset.from_tensor_slices((train_X, train_Y))\n",
    "    ds = ds.repeat().shuffle(1000).batch(BATCH_SIZE)\n",
    "    X, y = ds.make_one_shot_iterator().get_next()\n",
    "    \n",
    "    # 定义模型，得到预测结果、损失函数，和训练操作。\n",
    "    with tf.variable_scope(\"model\"):\n",
    "        _, loss, train_op = lstm_model(X, y, True)\n",
    "        \n",
    "    sess.run(tf.global_variables_initializer())\n",
    "    for i in range(TRAINING_STEPS):\n",
    "        _, l = sess.run([train_op, loss])\n",
    "        if i % 1000 == 0:\n",
    "            print(\"train step: \" + str(i) + \", loss: \", str(l))\n",
    "            \n",
    "\n",
    "# 5. 定义测试方法\n",
    "def run_eval(sess, test_X, test_y):\n",
    "    # 将测试数据以数据集的方式提供给计算图。\n",
    "    ds = tf.data.Dataset.from_tensor_slices((test_X, test_y))\n",
    "    ds = ds.batch(1)\n",
    "    X, y = ds.make_one_shot_iterator().get_next()\n",
    "    \n",
    "    # 调用模型得到计算结果。这里不需要输入真实的y值。\n",
    "    with tf.variable_scope(\"model\", reuse=True):\n",
    "        prediction, _, _ = lstm_model(X, [0.0], False)\n",
    "    \n",
    "    # 将预测结果存入一个数组。\n",
    "    predictions = []\n",
    "    labels = []\n",
    "    for i in range(TESTING_EXAMPLES):\n",
    "        p, l = sess.run([prediction, y])\n",
    "        predictions.append(p)\n",
    "        labels.append(l)\n",
    "\n",
    "    # 计算rmse作为评价指标。\n",
    "    predictions = np.array(predictions).squeeze()\n",
    "    labels = np.array(labels).squeeze()\n",
    "    rmse = np.sqrt(((predictions - labels) ** 2).mean(axis=0))\n",
    "    print(\"Root Mean Square Error is: %f\" % rmse)\n",
    "    \n",
    "    # 对预测的sin函数曲线进行绘图。\n",
    "    plt.figure()\n",
    "    plt.plot(predictions, label='predictions')\n",
    "    plt.plot(labels, label='real_sin')\n",
    "    plt.legend()\n",
    "    plt.show()\n",
    "    \n",
    "    \n",
    "# 6. 生成数据并训练、验证\n",
    "# 用正弦函数生成训练和测试数据集合。\n",
    "# numpy.linspace函数可以创建一个等差序列的数组，它常用的参数有三个参数，\n",
    "# 第一个参数表示起始值，第二个参数表示终止值，第三个参数表示数列的长度。\n",
    "# 例如linespace(1, 10, 10)产生的数组是arrray([1, 2, 3, 4, 5, 6, 7, 8, 9, 10]) \n",
    "test_start = (TRAINING_EXAMPLES + TIMESTEPS) * SAMPLE_GAP\n",
    "test_end = test_start + (TESTING_EXAMPLES + TIMESTEPS) * SAMPLE_GAP\n",
    "train_X, train_y = generate_data(np.sin(np.linspace(\n",
    "    0, test_start, TRAINING_EXAMPLES + TIMESTEPS, dtype=np.float32)))\n",
    "test_X, test_y = generate_data(np.sin(np.linspace(\n",
    "    test_start, test_end, TESTING_EXAMPLES + TIMESTEPS, dtype=np.float32)))\n",
    "\n",
    "with tf.Session() as sess:\n",
    "    train(sess, train_X, train_y)\n",
    "    run_eval(sess, test_X, test_y)"
   ]
  },
  {
   "cell_type": "markdown",
   "metadata": {},
   "source": [
    "可以看到RNN对sin(x)的预测是准确的。"
   ]
  }
 ],
 "metadata": {
  "kernelspec": {
   "display_name": "Python 3",
   "language": "python",
   "name": "python3"
  },
  "language_info": {
   "codemirror_mode": {
    "name": "ipython",
    "version": 3
   },
   "file_extension": ".py",
   "mimetype": "text/x-python",
   "name": "python",
   "nbconvert_exporter": "python",
   "pygments_lexer": "ipython3",
   "version": "3.5.2"
  }
 },
 "nbformat": 4,
 "nbformat_minor": 2
}
