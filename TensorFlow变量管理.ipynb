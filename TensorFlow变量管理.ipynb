{
 "cells": [
  {
   "cell_type": "markdown",
   "metadata": {},
   "source": [
    "## TensorFlow变量管理"
   ]
  },
  {
   "cell_type": "markdown",
   "metadata": {},
   "source": [
    "选择环境：Anaconda Python 3.5.2  \n",
    "安装Tensorflow：Python 3.5环境下运行pip install --upgrade --ignore-installed tensorflow  \n",
    "参考书籍：《TensorFlow实战Google深度学习框架（第2版）》  \n",
    "ipynb格式：点击阅读原文github"
   ]
  },
  {
   "cell_type": "markdown",
   "metadata": {},
   "source": [
    "### 5.3 变量管理"
   ]
  },
  {
   "cell_type": "markdown",
   "metadata": {},
   "source": [
    "TensorFlow提供了通过变量名称来创建或者获取一个变量的机制，主要通过tf.get_variable和tf.variable_scope实现。"
   ]
  },
  {
   "cell_type": "code",
   "execution_count": null,
   "metadata": {},
   "outputs": [],
   "source": [
    "# 当tf.get_variable用于创建变量时，和tf.Variable功能基本等价\n",
    "v = tf.get_variable(\"v\", shape=[1],\n",
    "                   initializer=tf.constant_initializer(1.0))\n",
    "v = tf.Variable(tf.constant(1.0, shape=[1]), name=\"v\")"
   ]
  },
  {
   "cell_type": "code",
   "execution_count": 1,
   "metadata": {},
   "outputs": [
    {
     "name": "stdout",
     "output_type": "stream",
     "text": [
      "var1.name: var1:0\n",
      "var2.name: var2:0\n",
      "var3.name: var:0\n",
      "var4.name: var_1:0\n",
      "before update var1: 1.0\n",
      "after update var1: 2.5\n",
      "before update var2: [1.]\n",
      "after update var2: [3.5]\n",
      "var5: [[-0.31131822  1.9845988   0.5653294 ]\n",
      " [-1.9427042   0.5992484   1.0912243 ]]\n",
      "var6: [[1. 1.]\n",
      " [1. 1.]]\n",
      "var7: [[0.]\n",
      " [0.]]\n"
     ]
    }
   ],
   "source": [
    "import tensorflow as tf\n",
    "\n",
    "# var1是一个数值\n",
    "var1 = tf.get_variable(\"var1\", shape=None, initializer=tf.constant(1.0))\n",
    "# var2是一个一维数组\n",
    "var2 = tf.Variable(tf.constant(1.0, shape=[1], dtype=tf.float32), name=\"var2\")\n",
    "\n",
    "# 即使设置了相同的name，实际上也是不同的变量\n",
    "var3 = tf.Variable(tf.constant(1.0, shape=[1], dtype=tf.float32), name=\"var\")\n",
    "var4 = tf.Variable(1.0, name=\"var\")\n",
    "print(\"var1.name:\", var1.name)\n",
    "print(\"var2.name:\", var2.name)\n",
    "print(\"var3.name:\", var3.name)\n",
    "print(\"var4.name:\", var4.name) # 自动变成var_1\n",
    "\n",
    "# TF提供的变量初始化函数\n",
    "var5 = tf.Variable(tf.random_normal(shape=[2, 3], mean=0.5, stddev=1.0, seed=1.0), name='var5')\n",
    "var6 = tf.Variable(tf.ones(shape=[2, 2]), name='var6')\n",
    "var7 = tf.Variable(tf.zeros(shape=[2, 1]), name='var7')\n",
    "\n",
    "with tf.Session() as sess:\n",
    "    #变量赋值函数，会自动创建一个operation，必须执行operation，否则不会进行赋值\n",
    "    # var1是一个数值\n",
    "    assign_op1 = tf.assign(var1, 2.5)\n",
    "    # var2是一个一维数组\n",
    "    assign_op2 = var2.assign([3.5])\n",
    "\n",
    "    sess.run(tf.global_variables_initializer())\n",
    "    print(\"before update var1:\", var1.eval())\n",
    "    sess.run(assign_op1)\n",
    "    print(\"after update var1:\", var1.eval())\n",
    "    print(\"before update var2:\", var2.eval())\n",
    "    sess.run(assign_op2)\n",
    "    print(\"after update var2:\", var2.eval())\n",
    "    print(\"var5:\", var5.eval())\n",
    "    print(\"var6:\", var6.eval())\n",
    "    print(\"var7:\", var7.eval())"
   ]
  },
  {
   "cell_type": "markdown",
   "metadata": {},
   "source": [
    "对于tf.get_variable函数，变量名称是一个必填的参数，如果创建了同名的参数就会报错。"
   ]
  },
  {
   "cell_type": "markdown",
   "metadata": {},
   "source": [
    "tf.variable_scope函数生成上下文管理器，控制tf.get_variable函数获取已经创建过的变量。"
   ]
  },
  {
   "cell_type": "markdown",
   "metadata": {},
   "source": [
    "1. 上下文管理器foo中创建变量"
   ]
  },
  {
   "cell_type": "code",
   "execution_count": 2,
   "metadata": {},
   "outputs": [
    {
     "name": "stdout",
     "output_type": "stream",
     "text": [
      "True\n",
      "v.name foo/v:0\n",
      "v1.name foo/v:0\n",
      "v.name bar/v2:0\n"
     ]
    }
   ],
   "source": [
    "# 在名字为foo的命名空间内创建名字为v的变量\n",
    "with tf.variable_scope(\"foo\"):\n",
    "    v = tf.get_variable(\n",
    "        \"v\", shape=[1], initializer=tf.constant_initializer(1.0))\n",
    "\n",
    "# 因为在命名空间foo中已经存在名字为v的变量，所以以下代码将会报错\n",
    "#with tf.variable_scope(\"foo\"):\n",
    "   # v = tf.get_variable(\"v\", [1])\n",
    "\n",
    "# 生成上下文管理器时，将参数reuse设置为True。这样tf.get_variable将直接获取已经声明的变量\n",
    "with tf.variable_scope(\"foo\", reuse=True):\n",
    "    v1 = tf.get_variable(\"v\", shape=[1])\n",
    "print(v == v1) # 若输出为True，则代表v,v1是相同变量\n",
    "print(\"v.name\", v.name)\n",
    "print(\"v1.name\", v1.name)\n",
    "\n",
    "# 如果命名空间中没有创建变量，reuse设置为True会报错，设置为False将创建新的变量，同名将报错\n",
    "with tf.variable_scope(\"bar\", reuse=False):\n",
    "    v = tf.get_variable(\"v2\", shape=[1])\n",
    "print(\"v.name\", v.name)"
   ]
  },
  {
   "cell_type": "markdown",
   "metadata": {},
   "source": [
    "2. 嵌套上下文管理器中reuse参数的使用"
   ]
  },
  {
   "cell_type": "code",
   "execution_count": 3,
   "metadata": {},
   "outputs": [
    {
     "name": "stdout",
     "output_type": "stream",
     "text": [
      "False\n",
      "True\n",
      "True\n",
      "False\n"
     ]
    }
   ],
   "source": [
    "with tf.variable_scope(\"root\"):\n",
    "    print(tf.get_variable_scope().reuse) # 获取reuse参数的取值\n",
    "    \n",
    "    with tf.variable_scope(\"foo\", reuse=True):\n",
    "        print(tf.get_variable_scope().reuse)\n",
    "        \n",
    "        with tf.variable_scope(\"bar\"): # 不指定reuse\n",
    "            print(tf.get_variable_scope().reuse) # 此时reuse取值和外面一层保持一致\n",
    "            \n",
    "    print(tf.get_variable_scope().reuse) # 退出上下文之后reuse又回到了False"
   ]
  },
  {
   "cell_type": "markdown",
   "metadata": {},
   "source": [
    "3. 通过tf.variable_scope来管理变量的名称"
   ]
  },
  {
   "cell_type": "code",
   "execution_count": 31,
   "metadata": {},
   "outputs": [
    {
     "name": "stdout",
     "output_type": "stream",
     "text": [
      "Once deleted, variables cannot be recovered. Proceed (y/[n])? y\n"
     ]
    }
   ],
   "source": [
    "reset"
   ]
  },
  {
   "cell_type": "code",
   "execution_count": 1,
   "metadata": {},
   "outputs": [
    {
     "name": "stdout",
     "output_type": "stream",
     "text": [
      "v1.name: v1:0\n",
      "v2.name: foo/v:0\n",
      "v3.name: foo/bar/v:0\n",
      "v4.name: foo/v_1:0\n"
     ]
    }
   ],
   "source": [
    "import tensorflow as tf\n",
    "v1 = tf.get_variable(\"v1\", [1])\n",
    "print(\"v1.name:\", v1.name)\n",
    "\n",
    "with tf.variable_scope(\"foo\"):\n",
    "    v2 = tf.get_variable(\"v\", [1])\n",
    "    print(\"v2.name:\", v2.name)\n",
    "\n",
    "# 变量范围嵌套\n",
    "with tf.variable_scope(\"foo\"):\n",
    "    with tf.variable_scope(\"bar\"):\n",
    "        v3 = tf.get_variable(\"v\", [1])\n",
    "        print(\"v3.name:\", v3.name)\n",
    "    \n",
    "    v4 = tf.get_variable(\"v_1\", [1])\n",
    "    print(\"v4.name:\", v4.name)"
   ]
  },
  {
   "cell_type": "markdown",
   "metadata": {},
   "source": [
    "4. 通过变量名称获取变量"
   ]
  },
  {
   "cell_type": "code",
   "execution_count": 6,
   "metadata": {},
   "outputs": [
    {
     "name": "stdout",
     "output_type": "stream",
     "text": [
      "v5 == v3: True\n",
      "v6 == v4: True\n"
     ]
    }
   ],
   "source": [
    "with tf.variable_scope(\"\",reuse=True): # 创建名称为空的命名空间\n",
    "    v5 = tf.get_variable(\"foo/bar/v\", [1])\n",
    "    print(\"v5 == v3:\", v5 == v3)\n",
    "    v6 = tf.get_variable(\"foo/v_1\", [1])     \n",
    "    print(\"v6 == v4:\", v6 == v4)"
   ]
  },
  {
   "cell_type": "markdown",
   "metadata": {},
   "source": [
    "通过tf.variable_scope和tf.get_variable函数，以下代码对MNIST数字识别模型中定义的计算前向传播结果的函数做了一些改进："
   ]
  },
  {
   "cell_type": "code",
   "execution_count": null,
   "metadata": {},
   "outputs": [],
   "source": [
    "def inference(input_tensor, reuse = False):\n",
    "    # 定义第一层神经网络的变量和前向传播结果\n",
    "    with tf.variable_scope('layer1', reuse = reuse):\n",
    "        # 根据传进来的`reuse`来判断是创建新的变量还是使用已经创建好了的。\n",
    "        # 在第一次构造网络时需要创建新的变量，\n",
    "        # 以后每次调用这个函数都直接使用 `reuse = True`就不需要每次将变量传进来了\n",
    "        weights = tf.get_variable('weights', [INPUT_NODE, LAYER1_NODE], \n",
    "                                  initializer=tf.truncated_normal_initializer(stddev=0.1))\n",
    "        biases = tf.get_variable(\"biases\", [LAYER1_NODE], \n",
    "                                 initializer=tf.constant_initializer(0.0))\n",
    "        layer1 = tf.nn.relu(tf.matmul(input_tensor, weights) + biases)\n",
    "    \n",
    "    # 类似地定义第二层神经网络的变量和前向传播结果\n",
    "    with tf.variable_scope('layer2'):\n",
    "        weights = tf.get_variable(\"weights\", [LAYER1_NODE, OUTPUT_NODE], \n",
    "                                  initializer=tf.truncated_normal_initializer(stddev=0.1))\n",
    "        biases = tf.get_variable(\"biases\", [OUTPUT_NODE], \n",
    "                                 initializer=tf.constant_initializer(0.0))\n",
    "        layer2 = tf.matmul(layer1, weights) + biases\n",
    "    # 返回最后的前向传播结果\n",
    "    return layer2\n",
    "\n",
    "x = tf.placeholder(tf.float32, [None, INPUT_NODE], name='x-input')\n",
    "y = inference(x)\n",
    "\n",
    "# 在程序中需要使用训练好的神经网络进行推导时，直接调用inference(new_x,True)\n",
    "new_x = ...\n",
    "new_y = inference(new_x,True)"
   ]
  },
  {
   "cell_type": "markdown",
   "metadata": {},
   "source": [
    "使用这种方式就不再需要将所有变量都作为参数传递到不同的函数中了，大大提高程序的可读性。"
   ]
  }
 ],
 "metadata": {
  "kernelspec": {
   "display_name": "Python 3",
   "language": "python",
   "name": "python3"
  },
  "language_info": {
   "codemirror_mode": {
    "name": "ipython",
    "version": 3
   },
   "file_extension": ".py",
   "mimetype": "text/x-python",
   "name": "python",
   "nbconvert_exporter": "python",
   "pygments_lexer": "ipython3",
   "version": "3.5.2"
  }
 },
 "nbformat": 4,
 "nbformat_minor": 2
}
