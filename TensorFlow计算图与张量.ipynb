{
 "cells": [
  {
   "cell_type": "markdown",
   "metadata": {},
   "source": [
    "## TensorFlow计算图（Graph）与张量（Tensor）"
   ]
  },
  {
   "cell_type": "markdown",
   "metadata": {},
   "source": [
    "选择环境：Anaconda Python 3.5.2  \n",
    "安装Tensorflow：Python 3.5环境下运行pip install --upgrade --ignore-installed tensorflow  \n",
    "参考书籍：《TensorFlow实战Google深度学习框架（第2版）》"
   ]
  },
  {
   "cell_type": "code",
   "execution_count": 1,
   "metadata": {},
   "outputs": [
    {
     "name": "stdout",
     "output_type": "stream",
     "text": [
      "[3. 5.]\n"
     ]
    }
   ],
   "source": [
    "#测试\n",
    "import tensorflow as tf;\n",
    "a = tf.constant([1.0,2.0],name=\"a\")\n",
    "b = tf.constant([2.0,3.0],name=\"b\")\n",
    "result = a + b;\n",
    "sess = tf.Session()\n",
    "print(sess.run(result))"
   ]
  },
  {
   "cell_type": "markdown",
   "metadata": {},
   "source": [
    "### 3.1 计算图"
   ]
  },
  {
   "cell_type": "markdown",
   "metadata": {},
   "source": [
    "Tensorflow程序第一阶段为定义计算图中所有的计算，第二阶段为执行计算。  \n",
    "这里介绍计算定义阶段。"
   ]
  },
  {
   "cell_type": "code",
   "execution_count": 2,
   "metadata": {},
   "outputs": [],
   "source": [
    "import tensorflow as tf\n",
    "a = tf.constant([1.0,2.0],name=\"a\") #定义常量\n",
    "b = tf.constant([2.0,3.0],name=\"b\")\n",
    "result = a + b #张量相加"
   ]
  },
  {
   "cell_type": "markdown",
   "metadata": {},
   "source": [
    "tf.get_default_graph() 获取当前默认的计算图  \n",
    "a.graph() 查看张量所属计算图  \n",
    "tf.Graph() 生成新的计算图，不同计算图张量和运算不共享"
   ]
  },
  {
   "cell_type": "code",
   "execution_count": 3,
   "metadata": {},
   "outputs": [
    {
     "name": "stdout",
     "output_type": "stream",
     "text": [
      "True\n"
     ]
    }
   ],
   "source": [
    "print(a.graph is tf.get_default_graph()) #未指定，默认计算图"
   ]
  },
  {
   "cell_type": "code",
   "execution_count": 4,
   "metadata": {},
   "outputs": [
    {
     "name": "stdout",
     "output_type": "stream",
     "text": [
      "[0.]\n",
      "[1.]\n"
     ]
    }
   ],
   "source": [
    "#示意在不同计算图上定义和使用变量\n",
    "import tensorflow as tf\n",
    "\n",
    "g1 = tf.Graph()\n",
    "with g1.as_default():\n",
    "    # 在计算图 g1 中定义变量“v”,并设置初始值为 0\n",
    "    v = tf.get_variable(\"v\", shape=[1], initializer=tf.zeros_initializer)\n",
    "\n",
    "g2 = tf.Graph()\n",
    "with g2.as_default():\n",
    "    # 在计算图 g2 中定义变量“v”设置初始值为 1\n",
    "    v = tf.get_variable(\"v\", shape=[1], initializer=tf.ones_initializer)\n",
    "\n",
    "# 在计算图 g1 中，读取变量‘v’的值\n",
    "with tf.Session(graph=g1) as sess:\n",
    "    tf.global_variables_initializer().run() #初始化全局变量\n",
    "    with tf.variable_scope(\"\", reuse=True):\n",
    "        # 在计算图 g1 中，变量 ‘v’的值取值应该为 0，所以下面这行会输出[0.]\n",
    "        print(sess.run(tf.get_variable(\"v\")))\n",
    "\n",
    "# 在计算图 g2 中，读取变量‘v’的值\n",
    "with tf.Session(graph=g2) as sess:\n",
    "    tf.global_variables_initializer().run() #初始化全局变量\n",
    "    with tf.variable_scope(\"\",reuse=True):\n",
    "        # 在计算图 g2 中，变量 ‘v’的值取值应该为 1，所以下面这行会输出[1.]\n",
    "        print(sess.run(tf.get_variable(\"v\")))"
   ]
  },
  {
   "cell_type": "markdown",
   "metadata": {},
   "source": [
    "tf.Graph.device() 指定运行计算的设备，为TensorFlow使用GPU提供了机制"
   ]
  },
  {
   "cell_type": "code",
   "execution_count": 5,
   "metadata": {},
   "outputs": [
    {
     "name": "stdout",
     "output_type": "stream",
     "text": [
      "[3. 5.]\n"
     ]
    }
   ],
   "source": [
    "a = tf.constant([1.0,2.0],name=\"a\")\n",
    "b = tf.constant([2.0,3.0],name=\"b\")\n",
    "g = tf.Graph()\n",
    "#指定计算运行的设备\n",
    "with g.device('/gpu:0'):\n",
    "    result = a + b\n",
    "    sess = tf.Session()\n",
    "    print(sess.run(result))"
   ]
  },
  {
   "cell_type": "markdown",
   "metadata": {},
   "source": [
    "### 3.2 TensorFlow数据模型——张量 "
   ]
  },
  {
   "cell_type": "markdown",
   "metadata": {},
   "source": [
    "在TensorFlow程序中，所有数据都通过张量的形式来表示。  \n",
    "张量在TensorFlow中的实现并不是直接采用数组的形式，只是对TensorFlow中运算结果的引用。在张量中并没有真正保存数字，它保存的是如何得到这些数字的计算过程。"
   ]
  },
  {
   "cell_type": "code",
   "execution_count": 6,
   "metadata": {},
   "outputs": [
    {
     "name": "stdout",
     "output_type": "stream",
     "text": [
      "Tensor(\"add_3:0\", shape=(2,), dtype=float32)\n"
     ]
    }
   ],
   "source": [
    "import tensorflow as tf\n",
    "#tf.constant是一个计算，这个计算的结果为一个张量，保存在变量a中\n",
    "a = tf.constant([1.0,2.0],name=\"a\")\n",
    "b = tf.constant([2.0,3.0],name=\"b\")\n",
    "result = tf.add(a,b,name=\"add\")\n",
    "print(result)"
   ]
  },
  {
   "cell_type": "markdown",
   "metadata": {},
   "source": [
    "计算结果不是一个具体的数字，而是一个张量的结构：名字name、维度shape、类型type。  \n",
    "名字是张量的唯一标识符，给出了这个张量是如何计算出来的。  \n",
    "node:src_output中node为节点的名称，src_output为当前张量来自节点的第几个输出。  \n",
    "上例中result这个张量是计算节点add输出的第一个结果（编号从0开始）。"
   ]
  },
  {
   "cell_type": "markdown",
   "metadata": {},
   "source": [
    "TensorFlow会检查参与运算的张量的类型，类型不匹配时报错："
   ]
  },
  {
   "cell_type": "code",
   "execution_count": 7,
   "metadata": {},
   "outputs": [],
   "source": [
    "a = tf.constant([1.0, 2.0], name=\"a\") #默认类型为float32\n",
    "b = tf.constant([2.0, 3.4], name=\"b\")\n",
    "c = tf.constant([4, 5], name=\"c\") #默认类型为int32\n",
    "d = tf.constant([4, 5], name=\"d\", dtype=tf.float32) #建议使用dtype明确类型\n",
    "result = a + b\n",
    "\n",
    "#类型不匹配 会报错\n",
    "#result1 = a + c\n",
    "\n",
    "#指定类型 dtype=tf.float32 正常运行\n",
    "result2 = a + d"
   ]
  },
  {
   "cell_type": "markdown",
   "metadata": {},
   "source": [
    "tf支持的数据类型:  \n",
    "实数(tf.float32,tf.float64)  \n",
    "整数(tf.int8,tf.int16,tf.int32,tf.int64,tf.uint8)  \n",
    "布尔型(tf.bool)  \n",
    "复数(tf.complex64,tf.complex128)"
   ]
  },
  {
   "cell_type": "markdown",
   "metadata": {},
   "source": [
    "张量使用主要可以总结为两大类。  \n",
    "第一类是对中间计算结果的引用，当一个计算包含很多中间结果时，使用张量可以大大提高代码的可读性。在卷积神经网络中，卷积层或者池化层有可能改变张量的维度，通过result.get_shape来获取结果张量的维度信息可以免去人工计算的麻烦；  \n",
    "第二类是计算图构造完成后，张量可以用来获得计算机结果，也就是得到真实的数字。张量本身没有存储具体的数字，但是通过会话(session)就可以得到这些具体的数字。比如使用tf.Session().run(result)"
   ]
  }
 ],
 "metadata": {
  "kernelspec": {
   "display_name": "Python 3",
   "language": "python",
   "name": "python3"
  },
  "language_info": {
   "codemirror_mode": {
    "name": "ipython",
    "version": 3
   },
   "file_extension": ".py",
   "mimetype": "text/x-python",
   "name": "python",
   "nbconvert_exporter": "python",
   "pygments_lexer": "ipython3",
   "version": "3.5.2"
  }
 },
 "nbformat": 4,
 "nbformat_minor": 2
}
